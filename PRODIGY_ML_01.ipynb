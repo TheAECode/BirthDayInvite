{
  "nbformat": 4,
  "nbformat_minor": 0,
  "metadata": {
    "colab": {
      "provenance": [],
      "authorship_tag": "ABX9TyOJHsFNxHE54Iqdp2xU0Y70",
      "include_colab_link": true
    },
    "kernelspec": {
      "name": "python3",
      "display_name": "Python 3"
    },
    "language_info": {
      "name": "python"
    }
  },
  "cells": [
    {
      "cell_type": "markdown",
      "metadata": {
        "id": "view-in-github",
        "colab_type": "text"
      },
      "source": [
        "<a href=\"https://colab.research.google.com/github/TheAECode/BirthDayInvite/blob/main/PRODIGY_ML_01.ipynb\" target=\"_parent\"><img src=\"https://colab.research.google.com/assets/colab-badge.svg\" alt=\"Open In Colab\"/></a>"
      ]
    },
    {
      "cell_type": "code",
      "source": [
        "!pip install pandas numpy matplotlib scikit-learn\n"
      ],
      "metadata": {
        "colab": {
          "base_uri": "https://localhost:8080/"
        },
        "id": "W3S-Vdxcez7O",
        "outputId": "e1cbbdaf-d1c7-4cff-f1bd-65afd86f23db"
      },
      "execution_count": 4,
      "outputs": [
        {
          "output_type": "stream",
          "name": "stdout",
          "text": [
            "Requirement already satisfied: pandas in /usr/local/lib/python3.10/dist-packages (2.2.2)\n",
            "Requirement already satisfied: numpy in /usr/local/lib/python3.10/dist-packages (1.26.4)\n",
            "Requirement already satisfied: matplotlib in /usr/local/lib/python3.10/dist-packages (3.10.0)\n",
            "Requirement already satisfied: scikit-learn in /usr/local/lib/python3.10/dist-packages (1.6.0)\n",
            "Requirement already satisfied: python-dateutil>=2.8.2 in /usr/local/lib/python3.10/dist-packages (from pandas) (2.8.2)\n",
            "Requirement already satisfied: pytz>=2020.1 in /usr/local/lib/python3.10/dist-packages (from pandas) (2024.2)\n",
            "Requirement already satisfied: tzdata>=2022.7 in /usr/local/lib/python3.10/dist-packages (from pandas) (2024.2)\n",
            "Requirement already satisfied: contourpy>=1.0.1 in /usr/local/lib/python3.10/dist-packages (from matplotlib) (1.3.1)\n",
            "Requirement already satisfied: cycler>=0.10 in /usr/local/lib/python3.10/dist-packages (from matplotlib) (0.12.1)\n",
            "Requirement already satisfied: fonttools>=4.22.0 in /usr/local/lib/python3.10/dist-packages (from matplotlib) (4.55.3)\n",
            "Requirement already satisfied: kiwisolver>=1.3.1 in /usr/local/lib/python3.10/dist-packages (from matplotlib) (1.4.8)\n",
            "Requirement already satisfied: packaging>=20.0 in /usr/local/lib/python3.10/dist-packages (from matplotlib) (24.2)\n",
            "Requirement already satisfied: pillow>=8 in /usr/local/lib/python3.10/dist-packages (from matplotlib) (11.1.0)\n",
            "Requirement already satisfied: pyparsing>=2.3.1 in /usr/local/lib/python3.10/dist-packages (from matplotlib) (3.2.1)\n",
            "Requirement already satisfied: scipy>=1.6.0 in /usr/local/lib/python3.10/dist-packages (from scikit-learn) (1.13.1)\n",
            "Requirement already satisfied: joblib>=1.2.0 in /usr/local/lib/python3.10/dist-packages (from scikit-learn) (1.4.2)\n",
            "Requirement already satisfied: threadpoolctl>=3.1.0 in /usr/local/lib/python3.10/dist-packages (from scikit-learn) (3.5.0)\n",
            "Requirement already satisfied: six>=1.5 in /usr/local/lib/python3.10/dist-packages (from python-dateutil>=2.8.2->pandas) (1.17.0)\n"
          ]
        }
      ]
    },
    {
      "cell_type": "code",
      "execution_count": 10,
      "metadata": {
        "colab": {
          "base_uri": "https://localhost:8080/"
        },
        "id": "G0yGzmJydfAk",
        "outputId": "db9825b0-bd41-42a1-c3c8-5056f9b0b9ca"
      },
      "outputs": [
        {
          "output_type": "stream",
          "name": "stdout",
          "text": [
            "Linear Regression RMSE: 39575.26836527863\n",
            "Ridge Regression RMSE: 39580.766394110855\n",
            "Lasso Regression RMSE: 39575.269865437884\n",
            "Random Forest RMSE: 29940.26283968774\n",
            "Cross-validated Linear Regression RMSE: 38750.19059516913\n"
          ]
        }
      ],
      "source": [
        "import pandas as pd\n",
        "import numpy as np\n",
        "from sklearn.model_selection import train_test_split, cross_val_score\n",
        "from sklearn.linear_model import LinearRegression, Ridge, Lasso\n",
        "from sklearn.ensemble import RandomForestRegressor\n",
        "from sklearn.metrics import mean_squared_error\n",
        "from sklearn.preprocessing import StandardScaler\n",
        "\n",
        "# Load the dataset\n",
        "train_data = pd.read_csv('/content/train.csv')\n",
        "\n",
        "# Handle missing values\n",
        "train_data['LotFrontage'] = train_data['LotFrontage'].fillna(train_data['LotFrontage'].median())\n",
        "\n",
        "# Feature Engineering\n",
        "train_data['TotalHouseArea'] = train_data['1stFlrSF'] + train_data['2ndFlrSF'] + train_data['TotalBsmtSF']\n",
        "train_data['HouseAge'] = train_data['YrSold'] - train_data['YearBuilt']\n",
        "\n",
        "# Select features and target based on correlation and feature engineering\n",
        "features = train_data[['OverallQual', 'GrLivArea', 'GarageCars', 'TotalHouseArea', 'FullBath', 'TotRmsAbvGrd', 'HouseAge']]\n",
        "target = train_data['SalePrice']\n",
        "\n",
        "# Split data into training and testing sets\n",
        "X_train, X_test, y_train, y_test = train_test_split(features, target, test_size=0.2, random_state=42)\n",
        "\n",
        "# Standardize the features\n",
        "scaler = StandardScaler()\n",
        "X_train_scaled = scaler.fit_transform(X_train)\n",
        "X_test_scaled = scaler.transform(X_test)\n",
        "\n",
        "# Linear Regression Model\n",
        "linear_model = LinearRegression()\n",
        "linear_model.fit(X_train_scaled, y_train)\n",
        "linear_predictions = linear_model.predict(X_test_scaled)\n",
        "linear_rmse = np.sqrt(mean_squared_error(y_test, linear_predictions))\n",
        "print(f'Linear Regression RMSE: {linear_rmse}')\n",
        "\n",
        "# Ridge Regression\n",
        "ridge_model = Ridge(alpha=1.0)\n",
        "ridge_model.fit(X_train_scaled, y_train)\n",
        "ridge_predictions = ridge_model.predict(X_test_scaled)\n",
        "ridge_rmse = np.sqrt(mean_squared_error(y_test, ridge_predictions))\n",
        "print(f'Ridge Regression RMSE: {ridge_rmse}')\n",
        "\n",
        "# Lasso Regression\n",
        "lasso_model = Lasso(alpha=0.01)\n",
        "lasso_model.fit(X_train_scaled, y_train)\n",
        "lasso_predictions = lasso_model.predict(X_test_scaled)\n",
        "lasso_rmse = np.sqrt(mean_squared_error(y_test, lasso_predictions))\n",
        "print(f'Lasso Regression RMSE: {lasso_rmse}')\n",
        "\n",
        "# Random Forest Regressor\n",
        "rf_model = RandomForestRegressor(n_estimators=100, random_state=42)\n",
        "rf_model.fit(X_train, y_train)\n",
        "rf_predictions = rf_model.predict(X_test)\n",
        "rf_rmse = np.sqrt(mean_squared_error(y_test, rf_predictions))\n",
        "print(f'Random Forest RMSE: {rf_rmse}')\n",
        "\n",
        "# Cross-Validation for Linear Regression\n",
        "cv_rmse = -cross_val_score(linear_model, scaler.fit_transform(features), target, scoring='neg_root_mean_squared_error', cv=5)\n",
        "print(f'Cross-validated Linear Regression RMSE: {np.mean(cv_rmse)}')\n"
      ]
    }
  ]
}